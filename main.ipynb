{
  "nbformat": 4,
  "nbformat_minor": 0,
  "metadata": {
    "colab": {
      "provenance": [],
      "authorship_tag": "ABX9TyOr9Uo5QMrRDjWYyd6r4G/z",
      "include_colab_link": true
    },
    "kernelspec": {
      "name": "python3",
      "display_name": "Python 3"
    },
    "language_info": {
      "name": "python"
    }
  },
  "cells": [
    {
      "cell_type": "markdown",
      "metadata": {
        "id": "view-in-github",
        "colab_type": "text"
      },
      "source": [
        "<a href=\"https://colab.research.google.com/github/SuvarshaChennareddy/EDA-Theory-Assignment/blob/main/main.ipynb\" target=\"_parent\"><img src=\"https://colab.research.google.com/assets/colab-badge.svg\" alt=\"Open In Colab\"/></a>"
      ]
    },
    {
      "cell_type": "markdown",
      "source": [
        "# Exploratory Data Analysis (EDA) on employee_promotion.csv\n",
        "\n",
        "Data Loading and Initial Exploration \\\n",
        "Data Cleaning and Handling \\\n",
        "Univariate, Bivariate, and Multivariate Analysis \\\n",
        "Dimensionality Reduction \\\n",
        "Model Development and Evaluation"
      ],
      "metadata": {
        "id": "X9Ts-SblMvth"
      }
    },
    {
      "cell_type": "markdown",
      "source": [
        "## Module 2: Data Transformation"
      ],
      "metadata": {
        "id": "34SlgaZgMqa4"
      }
    },
    {
      "cell_type": "markdown",
      "source": [
        "Load and Basic Exploration of Dataset"
      ],
      "metadata": {
        "id": "Uy7h3-3QNROl"
      }
    },
    {
      "cell_type": "code",
      "execution_count": 45,
      "metadata": {
        "id": "-b5RDRQVD7id",
        "colab": {
          "base_uri": "https://localhost:8080/"
        },
        "outputId": "ee8b6529-40c5-4830-cdb2-6119b46eb4fd"
      },
      "outputs": [
        {
          "output_type": "stream",
          "name": "stdout",
          "text": [
            "<class 'pandas.core.frame.DataFrame'>\n",
            "RangeIndex: 54808 entries, 0 to 54807\n",
            "Data columns (total 13 columns):\n",
            " #   Column                Non-Null Count  Dtype  \n",
            "---  ------                --------------  -----  \n",
            " 0   employee_id           54808 non-null  int64  \n",
            " 1   department            54808 non-null  object \n",
            " 2   region                54808 non-null  object \n",
            " 3   education             52399 non-null  object \n",
            " 4   gender                54808 non-null  object \n",
            " 5   recruitment_channel   54808 non-null  object \n",
            " 6   no_of_trainings       54808 non-null  int64  \n",
            " 7   age                   54808 non-null  object \n",
            " 8   previous_year_rating  50684 non-null  float64\n",
            " 9   length_of_service     54808 non-null  int64  \n",
            " 10  awards_won            54807 non-null  float64\n",
            " 11  avg_training_score    52247 non-null  float64\n",
            " 12  is_promoted           54808 non-null  object \n",
            "dtypes: float64(3), int64(3), object(7)\n",
            "memory usage: 5.4+ MB\n",
            "None\n",
            "        employee_id  no_of_trainings  previous_year_rating  length_of_service  \\\n",
            "count  54808.000000     54808.000000          50684.000000       54808.000000   \n",
            "mean   39195.830627         1.253011              3.329256           5.865512   \n",
            "std    22586.581449         0.609264              1.259993           4.265094   \n",
            "min        1.000000         1.000000              1.000000           1.000000   \n",
            "25%    19669.750000         1.000000              3.000000           3.000000   \n",
            "50%    39225.500000         1.000000              3.000000           5.000000   \n",
            "75%    58730.500000         1.000000              4.000000           7.000000   \n",
            "max    78298.000000        10.000000              5.000000          37.000000   \n",
            "\n",
            "         awards_won  avg_training_score  \n",
            "count  54807.000000        52247.000000  \n",
            "mean       0.023172           63.712347  \n",
            "std        0.150452           13.522016  \n",
            "min        0.000000           39.000000  \n",
            "25%        0.000000           51.000000  \n",
            "50%        0.000000           60.000000  \n",
            "75%        0.000000           77.000000  \n",
            "max        1.000000           99.000000  \n",
            "   employee_id         department     region         education gender  \\\n",
            "0        65438  Sales & Marketing   region_7  Master's & above      f   \n",
            "1        65141         Operations  region_22        Bachelor's      m   \n",
            "2         7513  Sales & Marketing  region_19        Bachelor's      m   \n",
            "3         2542  Sales & Marketing  region_23        Bachelor's      m   \n",
            "4        48945         Technology  region_26        Bachelor's      m   \n",
            "\n",
            "  recruitment_channel  no_of_trainings age  previous_year_rating  \\\n",
            "0            sourcing                1  35                   5.0   \n",
            "1               other                1  30                   5.0   \n",
            "2            sourcing                1  34                   3.0   \n",
            "3               other                2  39                   1.0   \n",
            "4               other                1  45                   3.0   \n",
            "\n",
            "   length_of_service  awards_won  avg_training_score is_promoted  \n",
            "0                  8         0.0                49.0           0  \n",
            "1                  4         0.0                60.0           0  \n",
            "2                  7         0.0                50.0           0  \n",
            "3                 10         0.0                50.0           0  \n",
            "4                  2         0.0                73.0           0  \n"
          ]
        }
      ],
      "source": [
        "import pandas as pd\n",
        "\n",
        "# Load the dataset\n",
        "data = pd.read_csv('employee_promotion.csv')\n",
        "\n",
        "# Basic info and statistics\n",
        "print(data.info())\n",
        "print(data.describe())\n",
        "print(data.head())"
      ]
    },
    {
      "cell_type": "markdown",
      "source": [
        "Identify Missing Values"
      ],
      "metadata": {
        "id": "r7SNSTIfNTZW"
      }
    },
    {
      "cell_type": "code",
      "source": [
        "# Check for missing values\n",
        "print(data.isnull().sum())"
      ],
      "metadata": {
        "colab": {
          "base_uri": "https://localhost:8080/"
        },
        "id": "_DbZtZv2MoO7",
        "outputId": "bb428770-25b5-42a9-cb17-6870c4b28165"
      },
      "execution_count": 46,
      "outputs": [
        {
          "output_type": "stream",
          "name": "stdout",
          "text": [
            "employee_id                0\n",
            "department                 0\n",
            "region                     0\n",
            "education               2409\n",
            "gender                     0\n",
            "recruitment_channel        0\n",
            "no_of_trainings            0\n",
            "age                        0\n",
            "previous_year_rating    4124\n",
            "length_of_service          0\n",
            "awards_won                 1\n",
            "avg_training_score      2561\n",
            "is_promoted                0\n",
            "dtype: int64\n"
          ]
        }
      ]
    },
    {
      "cell_type": "markdown",
      "source": [
        "Fill Missing Values"
      ],
      "metadata": {
        "id": "2QHkHWZ1PRV1"
      }
    },
    {
      "cell_type": "code",
      "source": [
        "columns_with_missing_values = data.columns[data.isnull().any()]\n",
        "for column in columns_with_missing_values:\n",
        "    print(f\"Unique values in '{column}': {data[column].unique()}\")"
      ],
      "metadata": {
        "colab": {
          "base_uri": "https://localhost:8080/"
        },
        "id": "DvDWq5jMUbIv",
        "outputId": "122b23a0-efc6-41b2-9f4a-6dd1e6eef804"
      },
      "execution_count": 47,
      "outputs": [
        {
          "output_type": "stream",
          "name": "stdout",
          "text": [
            "Unique values in 'education': [\"Master's & above\" \"Bachelor's\" nan '?' 'Below Secondary']\n",
            "Unique values in 'previous_year_rating': [ 5.  3.  1.  4. nan  2.]\n",
            "Unique values in 'awards_won': [ 0.  1. nan]\n",
            "Unique values in 'avg_training_score': [49. 60. 50. 73. 85. 59. 63. 83. 54. 77. 80. 84. 51. 46. 75. 57. 70. 68.\n",
            " 79. 44. 72. nan 48. 58. 87. 47. 52. 88. 71. 65. 62. 53. 78. 91. 82. 69.\n",
            " 55. 74. 86. 90. 92. 67. 89. 56. 76. 81. 64. 39. 94. 93. 66. 95. 42. 96.\n",
            " 40. 99. 43. 97. 41. 98.]\n"
          ]
        }
      ]
    },
    {
      "cell_type": "code",
      "source": [
        "# Fill numeric columns with a KNN imputer\n",
        "from sklearn.impute import KNNImputer\n",
        "\n",
        "# Select only numeric columns\n",
        "numeric_cols = data.select_dtypes(include=['number']).columns\n",
        "numeric_data = data[numeric_cols]\n",
        "\n",
        "# Initialize the KNN Imputer with a specified number of neighbors\n",
        "imputer = KNNImputer(n_neighbors=5)  # You can adjust the number of neighbors\n",
        "\n",
        "# Fit and transform the data\n",
        "data[numeric_cols] = imputer.fit_transform(numeric_data)\n",
        "\n",
        "# Check the result\n",
        "print(data[numeric_cols].head())"
      ],
      "metadata": {
        "colab": {
          "base_uri": "https://localhost:8080/"
        },
        "id": "hwv_FE3PPNnZ",
        "outputId": "59baf7e9-b444-430d-a85e-8f335d59b384"
      },
      "execution_count": 48,
      "outputs": [
        {
          "output_type": "stream",
          "name": "stdout",
          "text": [
            "   employee_id  no_of_trainings  previous_year_rating  length_of_service  \\\n",
            "0      65438.0              1.0                   5.0                8.0   \n",
            "1      65141.0              1.0                   5.0                4.0   \n",
            "2       7513.0              1.0                   3.0                7.0   \n",
            "3       2542.0              2.0                   1.0               10.0   \n",
            "4      48945.0              1.0                   3.0                2.0   \n",
            "\n",
            "   awards_won  avg_training_score  \n",
            "0         0.0                49.0  \n",
            "1         0.0                60.0  \n",
            "2         0.0                50.0  \n",
            "3         0.0                50.0  \n",
            "4         0.0                73.0  \n"
          ]
        }
      ]
    },
    {
      "cell_type": "code",
      "source": [
        "# Fill categorical columns with '?'\n",
        "\n",
        "data[['education']] = data[['education']].fillna('?')\n",
        "\n",
        "print(data.head())"
      ],
      "metadata": {
        "colab": {
          "base_uri": "https://localhost:8080/"
        },
        "id": "sNC9OzwZXBnU",
        "outputId": "69e26cbb-4719-438a-fa1f-2225538d24ee"
      },
      "execution_count": 49,
      "outputs": [
        {
          "output_type": "stream",
          "name": "stdout",
          "text": [
            "   employee_id         department     region         education gender  \\\n",
            "0      65438.0  Sales & Marketing   region_7  Master's & above      f   \n",
            "1      65141.0         Operations  region_22        Bachelor's      m   \n",
            "2       7513.0  Sales & Marketing  region_19        Bachelor's      m   \n",
            "3       2542.0  Sales & Marketing  region_23        Bachelor's      m   \n",
            "4      48945.0         Technology  region_26        Bachelor's      m   \n",
            "\n",
            "  recruitment_channel  no_of_trainings age  previous_year_rating  \\\n",
            "0            sourcing              1.0  35                   5.0   \n",
            "1               other              1.0  30                   5.0   \n",
            "2            sourcing              1.0  34                   3.0   \n",
            "3               other              2.0  39                   1.0   \n",
            "4               other              1.0  45                   3.0   \n",
            "\n",
            "   length_of_service  awards_won  avg_training_score is_promoted  \n",
            "0                8.0         0.0                49.0           0  \n",
            "1                4.0         0.0                60.0           0  \n",
            "2                7.0         0.0                50.0           0  \n",
            "3               10.0         0.0                50.0           0  \n",
            "4                2.0         0.0                73.0           0  \n"
          ]
        }
      ]
    },
    {
      "cell_type": "code",
      "source": [
        "print(data.isnull().sum())"
      ],
      "metadata": {
        "colab": {
          "base_uri": "https://localhost:8080/"
        },
        "id": "OBEz-rEcQcZw",
        "outputId": "24a4d11a-5a84-4347-ae9f-35b9a178c2d9"
      },
      "execution_count": 50,
      "outputs": [
        {
          "output_type": "stream",
          "name": "stdout",
          "text": [
            "employee_id             0\n",
            "department              0\n",
            "region                  0\n",
            "education               0\n",
            "gender                  0\n",
            "recruitment_channel     0\n",
            "no_of_trainings         0\n",
            "age                     0\n",
            "previous_year_rating    0\n",
            "length_of_service       0\n",
            "awards_won              0\n",
            "avg_training_score      0\n",
            "is_promoted             0\n",
            "dtype: int64\n"
          ]
        }
      ]
    },
    {
      "cell_type": "markdown",
      "source": [
        "Replace and Transform Values"
      ],
      "metadata": {
        "id": "OFxcMWL3PT3m"
      }
    },
    {
      "cell_type": "code",
      "source": [
        "# Define the ordinal scale for the education column\n",
        "education_order = {\n",
        "    \"?\": 0,\n",
        "    \"Below Secondary\": 1,\n",
        "    \"Bachelor's\": 2,\n",
        "    \"Master's & above\": 3,\n",
        "}\n",
        "\n",
        "# Apply the transformation\n",
        "data['education'] = data['education'].map(education_order)\n",
        "print(\"Ordinal values for 'education' column: \", data['education'].unique())"
      ],
      "metadata": {
        "colab": {
          "base_uri": "https://localhost:8080/"
        },
        "id": "vvsHdfUfPYxX",
        "outputId": "ca3c260e-e4a5-490f-c3c6-e4588d917c15"
      },
      "execution_count": 51,
      "outputs": [
        {
          "output_type": "stream",
          "name": "stdout",
          "text": [
            "Ordinal values for 'education' column:  [3 2 0 1]\n"
          ]
        }
      ]
    },
    {
      "cell_type": "markdown",
      "source": [
        "Standardize Numeric Data"
      ],
      "metadata": {
        "id": "id7weiKUPcdH"
      }
    },
    {
      "cell_type": "code",
      "source": [
        "from sklearn.preprocessing import StandardScaler\n",
        "\n",
        "# Create a copy of the original dataframe\n",
        "data_scaled = data.copy()\n",
        "\n",
        "# Select numeric columns\n",
        "numeric_cols = data_scaled.select_dtypes(include=['float64', 'int64']).columns\n",
        "\n",
        "# Initialize the scaler\n",
        "scaler = StandardScaler()\n",
        "\n",
        "# Scale the numeric columns in the copied dataframe\n",
        "data_scaled[numeric_cols] = scaler.fit_transform(data_scaled[numeric_cols])\n",
        "\n",
        "# Verify the changes\n",
        "print(data_scaled[numeric_cols].head())"
      ],
      "metadata": {
        "colab": {
          "base_uri": "https://localhost:8080/"
        },
        "id": "onO5t0VPPfNg",
        "outputId": "be7caa25-3a9d-4a51-83e5-79c8d827b8fd"
      },
      "execution_count": 52,
      "outputs": [
        {
          "output_type": "stream",
          "name": "stdout",
          "text": [
            "   employee_id  education  no_of_trainings  previous_year_rating  \\\n",
            "0     1.161858   1.260233        -0.415276              1.367780   \n",
            "1     1.148709  -0.257541        -0.415276              1.367780   \n",
            "2    -1.402741  -0.257541        -0.415276             -0.268956   \n",
            "3    -1.622829  -0.257541         1.226063             -1.905692   \n",
            "4     0.431639  -0.257541        -0.415276             -0.268956   \n",
            "\n",
            "   length_of_service  awards_won  avg_training_score  \n",
            "0           0.500460   -0.154018           -1.109970  \n",
            "1          -0.437395   -0.154018           -0.280989  \n",
            "2           0.265996   -0.154018           -1.034608  \n",
            "3           0.969387   -0.154018           -1.034608  \n",
            "4          -0.906322   -0.154018            0.698715  \n"
          ]
        }
      ]
    }
  ]
}